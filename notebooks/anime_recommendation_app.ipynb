{
  "nbformat": 4,
  "nbformat_minor": 0,
  "metadata": {
    "colab": {
      "provenance": []
    },
    "kernelspec": {
      "name": "python3",
      "display_name": "Python 3"
    },
    "language_info": {
      "name": "python"
    }
  },
  "cells": [
    {
      "cell_type": "markdown",
      "source": [
        "#Anime recommendation Chatbot App with ChatGPT, LangChain and Streamlit"
      ],
      "metadata": {
        "id": "04Nb-jGZim61"
      }
    },
    {
      "cell_type": "markdown",
      "source": [
        "#Install Dependencies"
      ],
      "metadata": {
        "id": "DCn8DcILiwgX"
      }
    },
    {
      "cell_type": "code",
      "execution_count": null,
      "metadata": {
        "id": "Ab7E8PkYiF7z"
      },
      "outputs": [],
      "source": [
        "# Install necessary packages using pip\n",
        "!pip install scikit-surprise\n",
        "!pip install --upgrade scikit-learn\n",
        "!pip install streamlit==1.32.2\n",
        "!pip install pyngrok==7.1.5\n",
        "!pip install langchain==0.1.12\n",
        "!pip install langchain-openai==0.0.8\n",
        "!pip install langchain-community==0.0.29"
      ]
    },
    {
      "cell_type": "markdown",
      "source": [
        "#Load OpenAI API Credentials"
      ],
      "metadata": {
        "id": "9NuRn09ki0L4"
      }
    },
    {
      "cell_type": "code",
      "source": [
        "from getpass import getpass\n",
        "\n",
        "OPENAI_KEY = getpass('Enter Open AI API Key: ')"
      ],
      "metadata": {
        "id": "HjYWkNmWiWYn"
      },
      "execution_count": null,
      "outputs": []
    },
    {
      "cell_type": "markdown",
      "source": [
        "#Set Environment Variable"
      ],
      "metadata": {
        "id": "vuCjPLcPi3fZ"
      }
    },
    {
      "cell_type": "code",
      "source": [
        "import os\n",
        "os.environ['OPENAI_API_KEY'] = OPENAI_KEY"
      ],
      "metadata": {
        "id": "cU7wDzbyiYQJ"
      },
      "execution_count": null,
      "outputs": []
    },
    {
      "cell_type": "markdown",
      "source": [
        "#Write App Code Header"
      ],
      "metadata": {
        "id": "7BK-BeH-i7IL"
      }
    },
    {
      "cell_type": "code",
      "source": [
        "%%writefile app.py\n",
        "import streamlit as st\n",
        "import joblib\n",
        "import pandas as pd\n",
        "from surprise import Dataset, Reader, SVD\n",
        "import warnings\n",
        "warnings.filterwarnings('ignore')\n",
        "from langchain_openai import ChatOpenAI\n",
        "from langchain.prompts import ChatPromptTemplate\n",
        "from langchain_community.chat_message_histories import StreamlitChatMessageHistory\n",
        "\n",
        "# Load the pre-trained models and components\n",
        "try:\n",
        "    # Load the pre-trained models and components\n",
        "    svd = joblib.load('/content/drive/MyDrive/svd_model.joblib')\n",
        "    tfidf = joblib.load('/content/drive/MyDrive/tfidf_vectorizer.joblib')\n",
        "    cosine_sim = joblib.load('/content/drive/MyDrive/cosine_sim_matrix.joblib')\n",
        "    indices = joblib.load('/content/drive/MyDrive/indices.joblib')\n",
        "\n",
        "    # Load datasets\n",
        "    anime_df = pd.read_csv('/content/drive/MyDrive/anime.csv')\n",
        "    rating_df = pd.read_csv('/content/drive/MyDrive/rating.csv')\n",
        "except FileNotFoundError:\n",
        "    st.error(\"Please make sure you have uploaded the model files (svd_model.joblib, tfidf_vectorizer.joblib, cosine_sim_matrix.joblib, indices.joblib, anime.csv, rating.csv) to the Colab environment.\")\n",
        "    st.stop()\n",
        "\n",
        "# Data cleaning (ensure this matches your notebook)\n",
        "anime_df.drop_duplicates(inplace=True)\n",
        "rating_df.drop_duplicates(inplace=True)\n",
        "rating_df = rating_df[rating_df['rating'] != -1]\n",
        "anime_df['genre'] = anime_df['genre'].fillna('')\n",
        "\n",
        "# Define recommendation functions (same as before)\n",
        "def get_svd_recommendations(user_id, n=10):\n",
        "    all_anime_ids = rating_df['anime_id'].unique()\n",
        "    rated_anime = rating_df[rating_df['user_id'] == user_id]['anime_id'].tolist()\n",
        "    candidates = [aid for aid in all_anime_ids if aid not in rated_anime]\n",
        "    predictions = [(aid, svd.predict(user_id, aid).est) for aid in candidates]\n",
        "    predictions.sort(key=lambda x: x[1], reverse=True)\n",
        "    top_n = predictions[:n]\n",
        "    return pd.DataFrame([\n",
        "        {'anime_id': aid, 'name': anime_df.loc[anime_df['anime_id'] == aid, 'name'].values[0], 'predicted_rating': pred}\n",
        "        for aid, pred in top_n if len(anime_df.loc[anime_df['anime_id'] == aid, 'name'].values) > 0\n",
        "    ])\n",
        "\n",
        "def get_content_recommendations(title, n=10):\n",
        "    if title not in indices:\n",
        "        return \"Anime title not found in the dataset.\"\n",
        "    idx = indices[title]\n",
        "    sim_scores = sorted(list(enumerate(cosine_sim[idx])), key=lambda x: x[1], reverse=True)[1:n+1]\n",
        "    anime_indices = [i[0] for i in sim_scores]\n",
        "    return anime_df.iloc[anime_indices][['anime_id', 'name', 'genre', 'rating']]\n",
        "\n",
        "def hybrid_recommendations(user_id, anime_title, alpha=0.5, n=10):\n",
        "    svd_recs = get_svd_recommendations(user_id, n=500)\n",
        "    if anime_title not in indices:\n",
        "        return \"Anime title not found for content-based filtering.\"\n",
        "    title_idx = indices[anime_title]\n",
        "    scores = []\n",
        "    for _, row in svd_recs.iterrows():\n",
        "        candidate_idx = anime_df[anime_df['anime_id'] == row['anime_id']].index[0]\n",
        "        content_score = cosine_sim[title_idx][candidate_idx]\n",
        "        collab_score = (row['predicted_rating'] - 1) / 9\n",
        "        hybrid_score = alpha * collab_score + (1 - alpha) * content_score\n",
        "        scores.append((row['anime_id'], row['name'], hybrid_score))\n",
        "    scores.sort(key=lambda x: x[2], reverse=True)\n",
        "    top_n = scores[:n]\n",
        "    return pd.DataFrame(top_n, columns=['anime_id', 'name', 'hybrid_score'])\n",
        "\n",
        "def create_test_user(anime_ratings, user_id=None):\n",
        "    global rating_df\n",
        "    if user_id is None:\n",
        "        if rating_df.empty:\n",
        "            user_id = 1\n",
        "        else:\n",
        "            user_id = rating_df['user_id'].max() + 1\n",
        "    new_ratings = []\n",
        "    not_found_titles = []\n",
        "    for title, rating in anime_ratings.items():\n",
        "        anime_entry = anime_df[anime_df['name'] == title]\n",
        "        if anime_entry.empty:\n",
        "            not_found_titles.append(title)\n",
        "            continue\n",
        "        anime_id = anime_entry['anime_id'].values[0]\n",
        "        new_ratings.append({\n",
        "            'user_id': user_id,\n",
        "            'anime_id': anime_id,\n",
        "            'rating': rating\n",
        "        })\n",
        "    if not_found_titles:\n",
        "        return None, None, f\"Anime titles not found: {', '.join(not_found_titles)}\"\n",
        "    if not new_ratings:\n",
        "        return None, None, \"No valid anime found for new user creation.\"\n",
        "    new_ratings_df = pd.DataFrame(new_ratings)\n",
        "    rating_df = pd.concat([rating_df, new_ratings_df], ignore_index=True)\n",
        "    return new_ratings_df, user_id, None\n",
        "\n",
        "\n",
        "# Initialize chat history\n",
        "streamlit_msg_history = StreamlitChatMessageHistory(key=\"anime_chat_messages\")\n",
        "chatgpt = ChatOpenAI(model_name='gpt-3.5-turbo', temperature=0.5)\n",
        "\n",
        "if len(streamlit_msg_history.messages) == 0:\n",
        "    streamlit_msg_history.add_ai_message(\"Hello! How can I help you with anime recommendations today?\")\n",
        "\n",
        "for msg in streamlit_msg_history.messages:\n",
        "    st.chat_message(msg.type).write(msg.content)\n",
        "\n",
        "if user_prompt := st.chat_input():\n",
        "    st.chat_message(\"user\").write(user_prompt)\n",
        "\n",
        "    # --- Intent Recognition Chain ---\n",
        "    intent_prompt_template = \"\"\"\n",
        "    You are an anime recommendation assistant.  A user has provided a message, determine their intent.\n",
        "    The possible intents are:\n",
        "\n",
        "    get_user_recommendations: The user wants anime recommendations based on a user ID. The message should contain a user ID.\n",
        "    get_anime_recommendations: The user wants anime recommendations based on an anime title. The message should contain an anime title.\n",
        "    get_hybrid_recommendations: The user wants hybrid recommendations based on a user ID and an anime title. The message should contain both.\n",
        "    create_new_user: The user wants to create a new user profile and provide anime titles and ratings.\n",
        "    unknown: The user's intent is not clear or doesn't fit into the above categories.\n",
        "\n",
        "    Analyze the following user message and determine the intent. Respond with just the intent name (e.g., get_user_recommendations, unknown).\n",
        "\n",
        "    User message: {message}\n",
        "    \"\"\"\n",
        "    intent_prompt = ChatPromptTemplate.from_template(intent_prompt_template)\n",
        "    intent_chain = intent_prompt | chatgpt\n",
        "\n",
        "    # --- Parameter Extraction Chains (Example for User ID and Anime Title) ---\n",
        "    user_id_extraction_prompt_template = \"Extract the user ID from the following text. If no user ID is found, respond with 'None'. Text: {text}\"\n",
        "    user_id_extraction_prompt = ChatPromptTemplate.from_template(user_id_extraction_prompt_template)\n",
        "    user_id_extraction_chain = user_id_extraction_prompt | chatgpt\n",
        "\n",
        "    anime_title_extraction_prompt_template = \"Extract the anime title from the following text. If no anime title is found, respond with 'None'. Text: {text}\"\n",
        "    anime_title_extraction_prompt = ChatPromptTemplate.from_template(anime_title_extraction_prompt_template)\n",
        "    anime_title_extraction_chain = anime_title_extraction_prompt | chatgpt\n",
        "\n",
        "\n",
        "    # --- Handle User Input and Intents ---\n",
        "    ai_response_content = \"\"\n",
        "    intent_response = intent_chain.invoke({\"message\": user_prompt})\n",
        "    intent = intent_response.content.strip()\n",
        "\n",
        "    if intent == \"get_user_recommendations\":\n",
        "        user_id_str = user_id_extraction_chain.invoke({\"text\": user_prompt}).content.strip()\n",
        "        if user_id_str.lower() != 'none':\n",
        "            try:\n",
        "                user_id = int(user_id_str)\n",
        "                recommendations_df = get_svd_recommendations(user_id, n=10) # Fixed n=10 for now, can be made dynamic\n",
        "                if recommendations_df is not None and not recommendations_df.empty:\n",
        "                    ai_response_content = \"Here are anime recommendations for user ID {}:\\n{}\".format(user_id, recommendations_df.to_string())\n",
        "                else:\n",
        "                    ai_response_content = \"No recommendations found for user ID {} or user ID not found.\".format(user_id)\n",
        "            except ValueError:\n",
        "                ai_response_content = \"Invalid user ID format. Please provide a number.\"\n",
        "        else:\n",
        "            ai_response_content = \"Please provide a user ID to get recommendations.\"\n",
        "\n",
        "    elif intent == \"get_anime_recommendations\":\n",
        "        anime_title = anime_title_extraction_chain.invoke({\"text\": user_prompt}).content.strip()\n",
        "        if anime_title.lower() != 'none':\n",
        "            recommendations_df = get_content_recommendations(anime_title, n=10) # Fixed n=10 for now\n",
        "            if isinstance(recommendations_df, pd.DataFrame):\n",
        "                ai_response_content = \"Here are anime recommendations based on the title '{}':\\n{}\".format(anime_title, recommendations_df.to_string())\n",
        "            else:\n",
        "                ai_response_content = recommendations_df # Error message from function\n",
        "        else:\n",
        "            ai_response_content = \"Please provide an anime title to get recommendations.\"\n",
        "\n",
        "    elif intent == \"get_hybrid_recommendations\":\n",
        "        user_id_str = user_id_extraction_chain.invoke({\"text\": user_prompt}).content.strip()\n",
        "        anime_title = anime_title_extraction_chain.invoke({\"text\": user_prompt}).content.strip()\n",
        "\n",
        "        user_id = None\n",
        "        if user_id_str.lower() != 'none':\n",
        "            try:\n",
        "                user_id = int(user_id_str)\n",
        "            except ValueError:\n",
        "                ai_response_content = \"Invalid user ID format. Please provide a number for user ID.\"\n",
        "                user_id = None # to prevent further processing with invalid user_id\n",
        "\n",
        "        if anime_title.lower() == 'none':\n",
        "            ai_response_content = \"Please provide both a user ID and an anime title for hybrid recommendations.\"\n",
        "        elif user_id is not None and not ai_response_content: # proceed only if user_id is valid and no error message set yet\n",
        "            recommendations_df = hybrid_recommendations(user_id, anime_title, n=10) # Fixed n=10\n",
        "            if isinstance(recommendations_df, pd.DataFrame):\n",
        "                ai_response_content = \"Here are hybrid recommendations for user ID {} based on anime '{}':\\n{}\".format(user_id, anime_title, recommendations_df.to_string())\n",
        "            else:\n",
        "                ai_response_content = recommendations_df # Error message from function\n",
        "\n",
        "    elif intent == \"create_new_user\":\n",
        "        ai_response_content = \"Okay, let's create a new user. Please provide anime titles and your ratings for them.  You can list them like this:  `Naruto,9\\nOne Piece,8\\nAttack on Titan,10` (one anime and rating per line).\"\n",
        "        st.session_state.awaiting_new_user_ratings = True # Set a session state flag\n",
        "\n",
        "    elif intent == \"unknown\":\n",
        "        ai_response_content = \"I'm sorry, I didn't understand what you want to do.  Please clarify if you want recommendations by user ID, by anime title, hybrid recommendations, or to create a new user.\"\n",
        "\n",
        "    else:\n",
        "        ai_response_content = \"Something went wrong processing your request. Please try again.\"\n",
        "\n",
        "    if 'awaiting_new_user_ratings' in st.session_state and st.session_state.awaiting_new_user_ratings:\n",
        "        if intent != \"create_new_user\" and user_prompt: # User provided input after 'create_new_user' intent\n",
        "            ratings_input = user_prompt\n",
        "            ratings_dict = {}\n",
        "            error_parsing = False\n",
        "            lines = ratings_input.strip().split('\\n')\n",
        "            for line in lines:\n",
        "                parts = line.split(',')\n",
        "                if len(parts) == 2:\n",
        "                    title = parts[0].strip()\n",
        "                    rating_str = parts[1].strip()\n",
        "                    try:\n",
        "                        rating = float(rating_str)\n",
        "                        ratings_dict[title] = rating\n",
        "                    except ValueError:\n",
        "                        ai_response_content = \"Invalid rating format: '{}'. Please use numbers for ratings.\".format(rating_str)\n",
        "                        error_parsing = True\n",
        "                        break\n",
        "                else:\n",
        "                    ai_response_content = \"Invalid input format. Please use 'Title,Rating' format for each line.\"\n",
        "                    error_parsing = True\n",
        "                    break\n",
        "\n",
        "            if not error_parsing:\n",
        "                if ratings_dict:\n",
        "                    new_user_ratings_df, new_user_id, error_msg = create_test_user(ratings_dict)\n",
        "                    if new_user_id is not None:\n",
        "                        ai_response_content = \"New user created with User ID: {}. Ratings added:\\n{}.\\nHere are anime recommendations for your new user (User ID: {}):\\n{}\".format(\n",
        "                            new_user_id, new_user_ratings_df.to_string(), new_user_id, get_svd_recommendations(new_user_id, n=10).to_string()\n",
        "                        )\n",
        "                        st.session_state.awaiting_new_user_ratings = False # Reset flag after processing\n",
        "                    else:\n",
        "                        ai_response_content = error_msg or \"Failed to create new user.\"\n",
        "                        st.session_state.awaiting_new_user_ratings = False # Reset flag even on failure\n",
        "                else:\n",
        "                    ai_response_content = \"No anime titles and ratings provided. New user not created.\"\n",
        "                    st.session_state.awaiting_new_user_ratings = False # Reset flag if no ratings provided\n",
        "\n",
        "\n",
        "    if ai_response_content:\n",
        "        streamlit_msg_history.add_ai_message(ai_response_content)\n",
        "        st.chat_message(\"ai\").write(ai_response_content)"
      ],
      "metadata": {
        "id": "CukTtCjBiZp_"
      },
      "execution_count": null,
      "outputs": []
    },
    {
      "cell_type": "markdown",
      "source": [
        "#Starting the Streamlit App"
      ],
      "metadata": {
        "id": "wOA1XzhHjBA1"
      }
    },
    {
      "cell_type": "code",
      "source": [
        "!streamlit run app.py --server.port=8989 &>/./logs.txt &"
      ],
      "metadata": {
        "id": "pjuZ4aOYicL4"
      },
      "execution_count": null,
      "outputs": []
    },
    {
      "cell_type": "markdown",
      "source": [
        "#Setting Up ngrok Tunnel"
      ],
      "metadata": {
        "id": "h7S1ggsGjG8H"
      }
    },
    {
      "cell_type": "code",
      "source": [
        "from getpass import getpass\n",
        "\n",
        "ngrok_auth_token = getpass('Enter ngrok API Key: ')"
      ],
      "metadata": {
        "id": "5lB9SmasidN5"
      },
      "execution_count": null,
      "outputs": []
    },
    {
      "cell_type": "code",
      "source": [
        "from pyngrok import ngrok\n",
        "import yaml\n",
        "\n",
        "# Terminate open tunnels if exist\n",
        "ngrok.kill()\n",
        "\n",
        "# Authenticate ngrok with the token read from the file\n",
        "!ngrok config add-authtoken {ngrok_auth_token}\n",
        "\n",
        "# Open an HTTPS tunnel on port XXXX which you get from your `logs.txt` file\n",
        "ngrok_tunnel = ngrok.connect(8989)\n",
        "print(\"Streamlit App:\", ngrok_tunnel.public_url)"
      ],
      "metadata": {
        "id": "S_DjpV0FihDa"
      },
      "execution_count": null,
      "outputs": []
    }
  ]
}