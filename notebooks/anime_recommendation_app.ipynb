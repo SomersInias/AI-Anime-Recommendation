{
  "nbformat": 4,
  "nbformat_minor": 0,
  "metadata": {
    "colab": {
      "provenance": []
    },
    "kernelspec": {
      "name": "python3",
      "display_name": "Python 3"
    },
    "language_info": {
      "name": "python"
    }
  },
  "cells": [
    {
      "cell_type": "markdown",
      "source": [
        "#Anime recommendation Chatbot App with ChatGPT, LangChain and Streamlit"
      ],
      "metadata": {
        "id": "04Nb-jGZim61"
      }
    },
    {
      "cell_type": "markdown",
      "source": [
        "#Install Dependencies"
      ],
      "metadata": {
        "id": "DCn8DcILiwgX"
      }
    },
    {
      "cell_type": "code",
      "execution_count": null,
      "metadata": {
        "id": "Ab7E8PkYiF7z"
      },
      "outputs": [],
      "source": [
        "# Install necessary packages using pip\n",
        "!pip install scikit-surprise\n",
        "!pip install --upgrade scikit-learn\n",
        "!pip install streamlit==1.32.2\n",
        "!pip install pyngrok==7.1.5\n",
        "!pip install langchain==0.1.12\n",
        "!pip install langchain-openai==0.0.8\n",
        "!pip install langchain-community==0.0.29"
      ]
    },
    {
      "cell_type": "markdown",
      "source": [
        "#Load OpenAI API Credentials"
      ],
      "metadata": {
        "id": "9NuRn09ki0L4"
      }
    },
    {
      "cell_type": "code",
      "source": [
        "from getpass import getpass\n",
        "\n",
        "OPENAI_KEY = getpass('Enter Open AI API Key: ')"
      ],
      "metadata": {
        "id": "HjYWkNmWiWYn"
      },
      "execution_count": null,
      "outputs": []
    },
    {
      "cell_type": "markdown",
      "source": [
        "#Set Environment Variable"
      ],
      "metadata": {
        "id": "vuCjPLcPi3fZ"
      }
    },
    {
      "cell_type": "code",
      "source": [
        "import os\n",
        "os.environ['OPENAI_API_KEY'] = OPENAI_KEY"
      ],
      "metadata": {
        "id": "cU7wDzbyiYQJ"
      },
      "execution_count": null,
      "outputs": []
    },
    {
      "cell_type": "markdown",
      "source": [
        "#Write App Code Header"
      ],
      "metadata": {
        "id": "7BK-BeH-i7IL"
      }
    },
    {
      "cell_type": "code",
      "source": [
        "%%writefile app.py\n",
        "import streamlit as st\n",
        "import joblib\n",
        "import pandas as pd\n",
        "import numpy as np\n",
        "from surprise import Dataset, Reader, SVD\n",
        "import warnings\n",
        "warnings.filterwarnings('ignore')\n",
        "from langchain_openai import ChatOpenAI\n",
        "\n",
        "# Load the pre-trained models and components\n",
        "try:\n",
        "    # Load the pre-trained models and components\n",
        "    svd = joblib.load('/content/drive/MyDrive/svd_model.joblib')\n",
        "    tfidf = joblib.load('/content/drive/MyDrive/tfidf_vectorizer.joblib')\n",
        "    cosine_sim = joblib.load('/content/drive/MyDrive/cosine_sim_matrix.joblib')\n",
        "    indices = joblib.load('/content/drive/MyDrive/indices.joblib')\n",
        "\n",
        "    # Load datasets\n",
        "    anime_df = pd.read_csv('/content/drive/MyDrive/anime.csv')\n",
        "    rating_df = pd.read_csv('/content/drive/MyDrive/rating.csv')\n",
        "\n",
        "except FileNotFoundError:\n",
        "    st.error(\"Please make sure you have uploaded the model files (svd_model.joblib, tfidf_vectorizer.joblib, cosine_sim_matrix.joblib, indices.joblib, anime.csv, rating.csv) to the Colab environment.\")\n",
        "    st.stop()\n",
        "\n",
        "# Data cleaning (ensure this matches your notebook)\n",
        "anime_df.drop_duplicates(inplace=True)\n",
        "rating_df.drop_duplicates(inplace=True)\n",
        "rating_df = rating_df[rating_df['rating'] != -1]\n",
        "anime_df['genre'] = anime_df['genre'].fillna('')\n",
        "\n",
        "# Define function to get SVD recommendations\n",
        "def get_svd_recommendations(user_id, n=10):\n",
        "    all_anime_ids = rating_df['anime_id'].unique()\n",
        "    rated_anime = rating_df[rating_df['user_id'] == user_id]['anime_id'].tolist()\n",
        "    candidates = [aid for aid in all_anime_ids if aid not in rated_anime]\n",
        "    predictions = [(aid, svd.predict(user_id, aid).est) for aid in candidates]\n",
        "    predictions.sort(key=lambda x: x[1], reverse=True)\n",
        "    top_n = predictions[:n]\n",
        "    return pd.DataFrame([\n",
        "        {'anime_id': aid, 'name': anime_df.loc[anime_df['anime_id'] == aid, 'name'].values[0], 'predicted_rating': pred}\n",
        "        for aid, pred in top_n if len(anime_df.loc[anime_df['anime_id'] == aid, 'name'].values) > 0\n",
        "    ])\n",
        "\n",
        "# Define function to get content-based recommendations\n",
        "def get_content_recommendations(title, n=10):\n",
        "    if title not in indices:\n",
        "        return \"Anime title not found in the dataset.\"\n",
        "    idx = indices[title]\n",
        "    sim_scores = sorted(list(enumerate(cosine_sim[idx])), key=lambda x: x[1], reverse=True)[1:n+1]\n",
        "    anime_indices = [i[0] for i in sim_scores]\n",
        "    return anime_df.iloc[anime_indices][['anime_id', 'name', 'genre', 'rating']]\n",
        "\n",
        "# Hybrid recommendations function\n",
        "def hybrid_recommendations(user_id, anime_title, alpha=0.5, n=10):\n",
        "    \"\"\"\n",
        "    Returns hybrid recommendations based on:\n",
        "    - SVD collaborative filtering predictions.\n",
        "    - Cosine similarity with a given anime title.\n",
        "    \"\"\"\n",
        "    # Get collaborative filtering recommendations (many candidates).\n",
        "    svd_recs = get_svd_recommendations(user_id, n=500)\n",
        "\n",
        "    # Get index of the context anime for content-based similarity.\n",
        "    if anime_title not in indices:\n",
        "        return \"Anime title not found for content-based filtering.\"\n",
        "    title_idx = indices[anime_title]\n",
        "\n",
        "    scores = []\n",
        "    # For each candidate from SVD, compute a hybrid score.\n",
        "    for _, row in svd_recs.iterrows():\n",
        "        candidate_idx = anime_df[anime_df['anime_id'] == row['anime_id']].index[0]\n",
        "        content_score = cosine_sim[title_idx][candidate_idx]\n",
        "        # Normalize the collaborative score (assuming ratings range from 1 to 10).\n",
        "        collab_score = (row['predicted_rating'] - 1) / 9\n",
        "        hybrid_score = alpha * collab_score + (1 - alpha) * content_score\n",
        "        scores.append((row['anime_id'], row['name'], hybrid_score))\n",
        "\n",
        "    # Sort the candidates by the hybrid score (highest first).\n",
        "    scores.sort(key=lambda x: x[2], reverse=True)\n",
        "    top_n = scores[:n]\n",
        "    return pd.DataFrame(top_n, columns=['anime_id', 'name', 'hybrid_score'])\n",
        "\n",
        "\n",
        "def create_test_user(anime_ratings, user_id=None):\n",
        "    \"\"\"\n",
        "    Create a test user with custom ratings for multiple anime and add the user to the global rating_df.\n",
        "    \"\"\"\n",
        "    global rating_df\n",
        "\n",
        "    if user_id is None:\n",
        "        if rating_df.empty:\n",
        "            user_id = 1\n",
        "        else:\n",
        "            user_id = rating_df['user_id'].max() + 1\n",
        "\n",
        "    new_ratings = []\n",
        "    not_found_titles = []\n",
        "    for title, rating in anime_ratings.items():\n",
        "        anime_entry = anime_df[anime_df['name'] == title]\n",
        "        if anime_entry.empty:\n",
        "            not_found_titles.append(title)\n",
        "            continue\n",
        "        anime_id = anime_entry['anime_id'].values[0]\n",
        "        new_ratings.append({\n",
        "            'user_id': user_id,\n",
        "            'anime_id': anime_id,\n",
        "            'rating': rating\n",
        "        })\n",
        "\n",
        "    if not_found_titles:\n",
        "        st.warning(f\"Anime titles not found: {', '.join(not_found_titles)}\")\n",
        "\n",
        "    if not new_ratings:\n",
        "        st.warning(\"No valid anime found for new user creation.\")\n",
        "        return None, None\n",
        "\n",
        "    new_ratings_df = pd.DataFrame(new_ratings)\n",
        "    rating_df = pd.concat([rating_df, new_ratings_df], ignore_index=True)\n",
        "    return new_ratings_df, user_id\n",
        "\n",
        "\n",
        "st.title(\"Anime Recommendation System\")\n",
        "\n",
        "with st.sidebar:\n",
        "    st.header(\"Anime Recommendations\")\n",
        "    st.write(\"Explore different types of anime recommendations.\")\n",
        "\n",
        "    recommendation_type = st.selectbox(\"Choose Recommendation Type\",\n",
        "                                        [\"By User ID\", \"By Anime Title\", \"Hybrid (User & Anime)\", \"Create New User\"])\n",
        "    num_recommendations = st.slider(\"Number of Recommendations\", 1, 30, 10)\n",
        "\n",
        "if recommendation_type == \"By User ID\":\n",
        "    user_id_input = st.number_input(\"Enter User ID\", min_value=1, step=1)\n",
        "    if st.button(\"Get User Recommendations\"):\n",
        "        if user_id_input:\n",
        "            recommendations_df = get_svd_recommendations(user_id_input, n=num_recommendations)\n",
        "            if recommendations_df is not None and not recommendations_df.empty:\n",
        "                st.dataframe(recommendations_df)\n",
        "            else:\n",
        "                st.write(\"No recommendations found for this user ID or user ID not found.\")\n",
        "        else:\n",
        "            st.warning(\"Please enter a User ID.\")\n",
        "\n",
        "elif recommendation_type == \"By Anime Title\":\n",
        "    anime_title_input = st.text_input(\"Enter Anime Title\")\n",
        "    if st.button(\"Get Anime-Based Recommendations\"):\n",
        "        if anime_title_input:\n",
        "            recommendations_df = get_content_recommendations(anime_title_input, n=num_recommendations)\n",
        "            if isinstance(recommendations_df, pd.DataFrame): # Check if it's DataFrame\n",
        "                st.dataframe(recommendations_df)\n",
        "            else:\n",
        "                st.write(recommendations_df) # It's an error message string\n",
        "        else:\n",
        "            st.warning(\"Please enter an Anime Title.\")\n",
        "\n",
        "elif recommendation_type == \"Hybrid (User & Anime)\":\n",
        "    user_id_hybrid_input = st.number_input(\"Enter User ID for Hybrid\", min_value=1, step=1)\n",
        "    anime_title_hybrid_input = st.text_input(\"Enter Anime Title for Hybrid\")\n",
        "    if st.button(\"Get Hybrid Recommendations\"):\n",
        "        if user_id_hybrid_input and anime_title_hybrid_input:\n",
        "            recommendations_df = hybrid_recommendations(user_id_hybrid_input, anime_title_hybrid_input, n=num_recommendations)\n",
        "            if isinstance(recommendations_df, pd.DataFrame): # Check if it's DataFrame\n",
        "                st.dataframe(recommendations_df)\n",
        "            else:\n",
        "                st.write(recommendations_df) # It's an error message string\n",
        "        else:\n",
        "            st.warning(\"Please enter both User ID and Anime Title for hybrid recommendations.\")\n",
        "\n",
        "elif recommendation_type == \"Create New User\":\n",
        "    anime_titles_new_user_input = st.text_area(\"Enter Anime Titles and Ratings (one per line, format: Title,Rating - e.g., Naruto,9)\")\n",
        "    if st.button(\"Create New User and Get Recommendations\"):\n",
        "        if anime_titles_new_user_input:\n",
        "            ratings_dict = {}\n",
        "            error_parsing = False\n",
        "            lines = anime_titles_new_user_input.strip().split('\\n')\n",
        "            for line in lines:\n",
        "                parts = line.split(',')\n",
        "                if len(parts) == 2:\n",
        "                    title = parts[0].strip()\n",
        "                    rating_str = parts[1].strip()\n",
        "                    try:\n",
        "                        rating = float(rating_str)\n",
        "                        ratings_dict[title] = rating\n",
        "                    except ValueError:\n",
        "                        st.error(f\"Invalid rating format: '{rating_str}'. Please use numbers for ratings.\")\n",
        "                        error_parsing = True\n",
        "                        break\n",
        "                else:\n",
        "                    st.error(\"Invalid input format. Please use 'Title,Rating' format for each line.\")\n",
        "                    error_parsing = True\n",
        "                    break\n",
        "            if not error_parsing:\n",
        "                if ratings_dict:\n",
        "                    new_user_ratings_df, new_user_id = create_test_user(ratings_dict)\n",
        "                    if new_user_id is not None:\n",
        "                        st.success(f\"New user created with User ID: {new_user_id}\")\n",
        "                        st.write(\"Ratings added for the new user:\")\n",
        "                        st.dataframe(new_user_ratings_df)\n",
        "                        st.write(f\"Getting recommendations for the new user (User ID: {new_user_id}):\")\n",
        "                        recommendations_df = get_svd_recommendations(new_user_id, n=num_recommendations)\n",
        "                        if recommendations_df is not None and not recommendations_df.empty:\n",
        "                            st.dataframe(recommendations_df)\n",
        "                        else:\n",
        "                            st.write(\"Could not generate recommendations for the new user.\")\n",
        "                    else:\n",
        "                        st.error(\"Failed to create new user.\")\n",
        "                else:\n",
        "                    st.warning(\"Please provide anime titles and ratings to create a new user.\")\n",
        "        else:\n",
        "            st.warning(\"Please enter anime titles and ratings for the new user.\")"
      ],
      "metadata": {
        "id": "CukTtCjBiZp_"
      },
      "execution_count": null,
      "outputs": []
    },
    {
      "cell_type": "markdown",
      "source": [
        "#Starting the Streamlit App"
      ],
      "metadata": {
        "id": "wOA1XzhHjBA1"
      }
    },
    {
      "cell_type": "code",
      "source": [
        "!streamlit run app.py --server.port=8989 &>/./logs.txt &"
      ],
      "metadata": {
        "id": "pjuZ4aOYicL4"
      },
      "execution_count": null,
      "outputs": []
    },
    {
      "cell_type": "markdown",
      "source": [
        "#Setting Up ngrok Tunnel"
      ],
      "metadata": {
        "id": "h7S1ggsGjG8H"
      }
    },
    {
      "cell_type": "code",
      "source": [
        "from getpass import getpass\n",
        "\n",
        "ngrok_auth_token = getpass('Enter ngrok API Key: ')"
      ],
      "metadata": {
        "id": "5lB9SmasidN5"
      },
      "execution_count": null,
      "outputs": []
    },
    {
      "cell_type": "code",
      "source": [
        "from pyngrok import ngrok\n",
        "import yaml\n",
        "\n",
        "# Terminate open tunnels if exist\n",
        "ngrok.kill()\n",
        "\n",
        "# Authenticate ngrok with the token read from the file\n",
        "!ngrok config add-authtoken {ngrok_auth_token}\n",
        "\n",
        "# Open an HTTPS tunnel on port XXXX which you get from your `logs.txt` file\n",
        "ngrok_tunnel = ngrok.connect(8989)\n",
        "print(\"Streamlit App:\", ngrok_tunnel.public_url)"
      ],
      "metadata": {
        "id": "S_DjpV0FihDa"
      },
      "execution_count": null,
      "outputs": []
    }
  ]
}